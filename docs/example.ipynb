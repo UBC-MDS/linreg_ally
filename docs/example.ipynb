{
    "cells": [
        {
            "cell_type": "markdown",
            "metadata": {},
            "source": [
                "# Example usage\n",
                "\n",
                "To use `linreg_ally` in a project:"
            ]
        },
        {
            "cell_type": "code",
            "execution_count": 30,
            "metadata": {},
            "outputs": [
                {
                    "name": "stdout",
                    "output_type": "stream",
                    "text": [
                        "0.1.0\n"
                    ]
                }
            ],
            "source": [
                "import linreg_ally\n",
                "\n",
                "print(linreg_ally.__version__)"
            ]
        },
        {
            "cell_type": "code",
            "execution_count": null,
            "metadata": {},
            "outputs": [],
            "source": [
                "# Imports"
            ]
        },
        {
            "cell_type": "code",
            "execution_count": null,
            "metadata": {},
            "outputs": [],
            "source": []
        },
        {
            "cell_type": "code",
            "execution_count": null,
            "metadata": {},
            "outputs": [],
            "source": [
                "# Paramveer - EDA"
            ]
        },
        {
            "cell_type": "markdown",
            "metadata": {},
            "source": [
                "### `check_multicollinearity`\n",
                "\n",
                "Multicollinearity exists when two or more explantory variables in a regression model are correlated. High degree of multicolinearity in a regression model is problematic as it can make coefficient estimates unstable. In the case where there is perfect correlation between two explanatory variables, it can even cause a regression model to fail as it will be impossible to assess how the target variable is affected by a unit change in an explantory variable when holding all other explantory variables constant. \n",
                "\n",
                "Multicollinearity can be checked through the Variance Inflator Factors (\"VIF\"). VIF of a given explanatory variable $X_i$ is computed by $\\frac{1}{(1 - R^2_{X_i, ... X_-i})}$ where $R^2_{X_i, ... X_-i}$ is the coefficient of determination from regressing $X_i$ against all other explanatory variables. Another way of detecting multicollinearity is to obtain the pairwise correlation between explanatory variables.\n"
            ]
        },
        {
            "cell_type": "code",
            "execution_count": 51,
            "metadata": {},
            "outputs": [],
            "source": [
                "# Alex - VIF \n",
                "\n",
                "## to be cleaned up after incorporating other's codes \n",
                "\n",
                "from linreg_ally.multicollinearity import check_multicollinearity\n",
                "from vega_datasets import data\n",
                "from sklearn.model_selection import train_test_split \n",
                "import altair as alt\n",
                "\n",
                "cars = data.cars()\n",
                "cars = cars.drop(columns=['Name'])\n",
                "\n",
                "train_df, test_df = train_test_split(cars, test_size = 0.2, random_state = 123)\n",
                "X_train = train_df.iloc[:,1:]\n",
                "y_train = train_df.iloc[:,0:1]\n",
                "\n",
                "X_train_clean = X_train.dropna()"
            ]
        },
        {
            "cell_type": "markdown",
            "metadata": {},
            "source": [
                "The `check_multicollinearity()` function provides a simple and convenient way to detect multicollinearity in your dataset. Simply pass the cleaned training dataframe into the function and it will return the VIF for every numeric explanatory variable. You can also set the optional argument `threshold` such that the function returns only explanatory variables with a VIF beyond the set threshold. "
            ]
        },
        {
            "cell_type": "code",
            "execution_count": 47,
            "metadata": {},
            "outputs": [
                {
                    "data": {
                        "text/html": [
                            "<div>\n",
                            "<style scoped>\n",
                            "    .dataframe tbody tr th:only-of-type {\n",
                            "        vertical-align: middle;\n",
                            "    }\n",
                            "\n",
                            "    .dataframe tbody tr th {\n",
                            "        vertical-align: top;\n",
                            "    }\n",
                            "\n",
                            "    .dataframe thead th {\n",
                            "        text-align: right;\n",
                            "    }\n",
                            "</style>\n",
                            "<table border=\"1\" class=\"dataframe\">\n",
                            "  <thead>\n",
                            "    <tr style=\"text-align: right;\">\n",
                            "      <th></th>\n",
                            "      <th>Features</th>\n",
                            "      <th>VIF</th>\n",
                            "    </tr>\n",
                            "  </thead>\n",
                            "  <tbody>\n",
                            "    <tr>\n",
                            "      <th>0</th>\n",
                            "      <td>Cylinders</td>\n",
                            "      <td>96.549975</td>\n",
                            "    </tr>\n",
                            "    <tr>\n",
                            "      <th>1</th>\n",
                            "      <td>Displacement</td>\n",
                            "      <td>71.962976</td>\n",
                            "    </tr>\n",
                            "    <tr>\n",
                            "      <th>2</th>\n",
                            "      <td>Horsepower</td>\n",
                            "      <td>44.626008</td>\n",
                            "    </tr>\n",
                            "    <tr>\n",
                            "      <th>3</th>\n",
                            "      <td>Weight_in_lbs</td>\n",
                            "      <td>126.971443</td>\n",
                            "    </tr>\n",
                            "    <tr>\n",
                            "      <th>4</th>\n",
                            "      <td>Acceleration</td>\n",
                            "      <td>26.482060</td>\n",
                            "    </tr>\n",
                            "  </tbody>\n",
                            "</table>\n",
                            "</div>"
                        ],
                        "text/plain": [
                            "        Features         VIF\n",
                            "0      Cylinders   96.549975\n",
                            "1   Displacement   71.962976\n",
                            "2     Horsepower   44.626008\n",
                            "3  Weight_in_lbs  126.971443\n",
                            "4   Acceleration   26.482060"
                        ]
                    },
                    "execution_count": 47,
                    "metadata": {},
                    "output_type": "execute_result"
                }
            ],
            "source": [
                "vif_df = check_multicollinearity(X_train_clean, vif_only = True)\n",
                "vif_df"
            ]
        },
        {
            "cell_type": "code",
            "execution_count": 45,
            "metadata": {},
            "outputs": [
                {
                    "data": {
                        "text/html": [
                            "<div>\n",
                            "<style scoped>\n",
                            "    .dataframe tbody tr th:only-of-type {\n",
                            "        vertical-align: middle;\n",
                            "    }\n",
                            "\n",
                            "    .dataframe tbody tr th {\n",
                            "        vertical-align: top;\n",
                            "    }\n",
                            "\n",
                            "    .dataframe thead th {\n",
                            "        text-align: right;\n",
                            "    }\n",
                            "</style>\n",
                            "<table border=\"1\" class=\"dataframe\">\n",
                            "  <thead>\n",
                            "    <tr style=\"text-align: right;\">\n",
                            "      <th></th>\n",
                            "      <th>Features</th>\n",
                            "      <th>VIF</th>\n",
                            "    </tr>\n",
                            "  </thead>\n",
                            "  <tbody>\n",
                            "    <tr>\n",
                            "      <th>0</th>\n",
                            "      <td>Cylinders</td>\n",
                            "      <td>96.549975</td>\n",
                            "    </tr>\n",
                            "    <tr>\n",
                            "      <th>1</th>\n",
                            "      <td>Displacement</td>\n",
                            "      <td>71.962976</td>\n",
                            "    </tr>\n",
                            "    <tr>\n",
                            "      <th>3</th>\n",
                            "      <td>Weight_in_lbs</td>\n",
                            "      <td>126.971443</td>\n",
                            "    </tr>\n",
                            "  </tbody>\n",
                            "</table>\n",
                            "</div>"
                        ],
                        "text/plain": [
                            "        Features         VIF\n",
                            "0      Cylinders   96.549975\n",
                            "1   Displacement   71.962976\n",
                            "3  Weight_in_lbs  126.971443"
                        ]
                    },
                    "execution_count": 45,
                    "metadata": {},
                    "output_type": "execute_result"
                }
            ],
            "source": [
                "vif_df_w_threshold = check_multicollinearity(X_train_clean, threshold = 50, vif_only = True)\n",
                "vif_df_w_threshold"
            ]
        },
        {
            "cell_type": "markdown",
            "metadata": {},
            "source": [
                "`check_multicollinearity()` also allow users to obtain pairwise Pearson Correlation for the explanatory variables in the training set. To do so, simply set the argument `vif_only` as `FALSE`. "
            ]
        },
        {
            "cell_type": "code",
            "execution_count": 50,
            "metadata": {},
            "outputs": [
                {
                    "data": {
                        "text/html": [
                            "\n",
                            "<style>\n",
                            "  #altair-viz-3e907803923648cb83c108f84e4c49d2.vega-embed {\n",
                            "    width: 100%;\n",
                            "    display: flex;\n",
                            "  }\n",
                            "\n",
                            "  #altair-viz-3e907803923648cb83c108f84e4c49d2.vega-embed details,\n",
                            "  #altair-viz-3e907803923648cb83c108f84e4c49d2.vega-embed details summary {\n",
                            "    position: relative;\n",
                            "  }\n",
                            "</style>\n",
                            "<div id=\"altair-viz-3e907803923648cb83c108f84e4c49d2\"></div>\n",
                            "<script type=\"text/javascript\">\n",
                            "  var VEGA_DEBUG = (typeof VEGA_DEBUG == \"undefined\") ? {} : VEGA_DEBUG;\n",
                            "  (function(spec, embedOpt){\n",
                            "    let outputDiv = document.currentScript.previousElementSibling;\n",
                            "    if (outputDiv.id !== \"altair-viz-3e907803923648cb83c108f84e4c49d2\") {\n",
                            "      outputDiv = document.getElementById(\"altair-viz-3e907803923648cb83c108f84e4c49d2\");\n",
                            "    }\n",
                            "\n",
                            "    const paths = {\n",
                            "      \"vega\": \"https://cdn.jsdelivr.net/npm/vega@5?noext\",\n",
                            "      \"vega-lib\": \"https://cdn.jsdelivr.net/npm/vega-lib?noext\",\n",
                            "      \"vega-lite\": \"https://cdn.jsdelivr.net/npm/vega-lite@5.20.1?noext\",\n",
                            "      \"vega-embed\": \"https://cdn.jsdelivr.net/npm/vega-embed@6?noext\",\n",
                            "    };\n",
                            "\n",
                            "    function maybeLoadScript(lib, version) {\n",
                            "      var key = `${lib.replace(\"-\", \"\")}_version`;\n",
                            "      return (VEGA_DEBUG[key] == version) ?\n",
                            "        Promise.resolve(paths[lib]) :\n",
                            "        new Promise(function(resolve, reject) {\n",
                            "          var s = document.createElement('script');\n",
                            "          document.getElementsByTagName(\"head\")[0].appendChild(s);\n",
                            "          s.async = true;\n",
                            "          s.onload = () => {\n",
                            "            VEGA_DEBUG[key] = version;\n",
                            "            return resolve(paths[lib]);\n",
                            "          };\n",
                            "          s.onerror = () => reject(`Error loading script: ${paths[lib]}`);\n",
                            "          s.src = paths[lib];\n",
                            "        });\n",
                            "    }\n",
                            "\n",
                            "    function showError(err) {\n",
                            "      outputDiv.innerHTML = `<div class=\"error\" style=\"color:red;\">${err}</div>`;\n",
                            "      throw err;\n",
                            "    }\n",
                            "\n",
                            "    function displayChart(vegaEmbed) {\n",
                            "      vegaEmbed(outputDiv, spec, embedOpt)\n",
                            "        .catch(err => showError(`Javascript Error: ${err.message}<br>This usually means there's a typo in your chart specification. See the javascript console for the full traceback.`));\n",
                            "    }\n",
                            "\n",
                            "    if(typeof define === \"function\" && define.amd) {\n",
                            "      requirejs.config({paths});\n",
                            "      let deps = [\"vega-embed\"];\n",
                            "      require(deps, displayChart, err => showError(`Error loading script: ${err.message}`));\n",
                            "    } else {\n",
                            "      maybeLoadScript(\"vega\", \"5\")\n",
                            "        .then(() => maybeLoadScript(\"vega-lite\", \"5.20.1\"))\n",
                            "        .then(() => maybeLoadScript(\"vega-embed\", \"6\"))\n",
                            "        .catch(showError)\n",
                            "        .then(() => displayChart(vegaEmbed));\n",
                            "    }\n",
                            "  })({\"config\": {\"view\": {\"continuousWidth\": 300, \"continuousHeight\": 300}}, \"data\": {\"name\": \"data-17f4e32914e3e34dabaa10a6ad7388d7\"}, \"mark\": {\"type\": \"circle\"}, \"encoding\": {\"color\": {\"field\": \"corr\", \"type\": \"quantitative\"}, \"size\": {\"field\": \"corr\", \"type\": \"quantitative\"}, \"x\": {\"field\": \"level_0\", \"type\": \"nominal\"}, \"y\": {\"field\": \"level_1\", \"type\": \"nominal\"}}, \"$schema\": \"https://vega.github.io/schema/vega-lite/v5.20.1.json\", \"datasets\": {\"data-17f4e32914e3e34dabaa10a6ad7388d7\": [{\"level_0\": \"Cylinders\", \"level_1\": \"Cylinders\", \"corr\": 1.0}, {\"level_0\": \"Cylinders\", \"level_1\": \"Displacement\", \"corr\": 0.951}, {\"level_0\": \"Cylinders\", \"level_1\": \"Horsepower\", \"corr\": 0.846}, {\"level_0\": \"Cylinders\", \"level_1\": \"Weight_in_lbs\", \"corr\": 0.889}, {\"level_0\": \"Cylinders\", \"level_1\": \"Acceleration\", \"corr\": 0.519}, {\"level_0\": \"Displacement\", \"level_1\": \"Cylinders\", \"corr\": 0.951}, {\"level_0\": \"Displacement\", \"level_1\": \"Displacement\", \"corr\": 1.0}, {\"level_0\": \"Displacement\", \"level_1\": \"Horsepower\", \"corr\": 0.901}, {\"level_0\": \"Displacement\", \"level_1\": \"Weight_in_lbs\", \"corr\": 0.932}, {\"level_0\": \"Displacement\", \"level_1\": \"Acceleration\", \"corr\": 0.55}, {\"level_0\": \"Horsepower\", \"level_1\": \"Cylinders\", \"corr\": 0.846}, {\"level_0\": \"Horsepower\", \"level_1\": \"Displacement\", \"corr\": 0.901}, {\"level_0\": \"Horsepower\", \"level_1\": \"Horsepower\", \"corr\": 1.0}, {\"level_0\": \"Horsepower\", \"level_1\": \"Weight_in_lbs\", \"corr\": 0.864}, {\"level_0\": \"Horsepower\", \"level_1\": \"Acceleration\", \"corr\": 0.696}, {\"level_0\": \"Weight_in_lbs\", \"level_1\": \"Cylinders\", \"corr\": 0.889}, {\"level_0\": \"Weight_in_lbs\", \"level_1\": \"Displacement\", \"corr\": 0.932}, {\"level_0\": \"Weight_in_lbs\", \"level_1\": \"Horsepower\", \"corr\": 0.864}, {\"level_0\": \"Weight_in_lbs\", \"level_1\": \"Weight_in_lbs\", \"corr\": 1.0}, {\"level_0\": \"Weight_in_lbs\", \"level_1\": \"Acceleration\", \"corr\": 0.427}, {\"level_0\": \"Acceleration\", \"level_1\": \"Cylinders\", \"corr\": 0.519}, {\"level_0\": \"Acceleration\", \"level_1\": \"Displacement\", \"corr\": 0.55}, {\"level_0\": \"Acceleration\", \"level_1\": \"Horsepower\", \"corr\": 0.696}, {\"level_0\": \"Acceleration\", \"level_1\": \"Weight_in_lbs\", \"corr\": 0.427}, {\"level_0\": \"Acceleration\", \"level_1\": \"Acceleration\", \"corr\": 1.0}]}}, {\"mode\": \"vega-lite\"});\n",
                            "</script>"
                        ],
                        "text/plain": [
                            "alt.Chart(...)"
                        ]
                    },
                    "execution_count": 50,
                    "metadata": {},
                    "output_type": "execute_result"
                }
            ],
            "source": [
                "vif_df, corr_chart = check_multicollinearity(X_train_clean, vif_only = False)\n",
                "corr_chart"
            ]
        },
        {
            "cell_type": "code",
            "execution_count": null,
            "metadata": {},
            "outputs": [],
            "source": [
                "# Cheng - model fitting"
            ]
        },
        {
            "cell_type": "code",
            "execution_count": null,
            "metadata": {},
            "outputs": [],
            "source": [
                "# Merari - plot"
            ]
        }
    ],
    "metadata": {
        "kernelspec": {
            "display_name": "Python 3",
            "language": "python",
            "name": "python3"
        },
        "language_info": {
            "codemirror_mode": {
                "name": "ipython",
                "version": 3
            },
            "file_extension": ".py",
            "mimetype": "text/x-python",
            "name": "python",
            "nbconvert_exporter": "python",
            "pygments_lexer": "ipython3",
            "version": "3.13.1"
        }
    },
    "nbformat": 4,
    "nbformat_minor": 4
}
