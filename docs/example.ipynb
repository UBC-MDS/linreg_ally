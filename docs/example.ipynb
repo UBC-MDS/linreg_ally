{
 "cells": [
  {
   "cell_type": "markdown",
   "metadata": {},
   "source": [
    "# Example usage\n",
    "\n",
    "To use `linreg_ally` in a project:"
   ]
  },
  {
   "cell_type": "code",
   "execution_count": 3,
   "metadata": {},
   "outputs": [
    {
     "name": "stdout",
     "output_type": "stream",
     "text": [
      "0.1.0\n"
     ]
    }
   ],
   "source": [
    "import linreg_ally\n",
    "\n",
    "print(linreg_ally.__version__)"
   ]
  },
  {
   "cell_type": "code",
   "execution_count": null,
   "metadata": {},
   "outputs": [],
   "source": [
    "# Imports"
   ]
  },
  {
   "cell_type": "code",
   "execution_count": null,
   "metadata": {},
   "outputs": [],
   "source": []
  },
  {
   "cell_type": "code",
   "execution_count": null,
   "metadata": {},
   "outputs": [],
   "source": [
    "# Paramveer - EDA"
   ]
  },
  {
   "cell_type": "code",
   "execution_count": null,
   "metadata": {},
   "outputs": [],
   "source": [
    "# Alex - VIF "
   ]
  },
  {
   "cell_type": "code",
   "execution_count": null,
   "metadata": {},
   "outputs": [],
   "source": [
    "# Cheng - model fitting"
   ]
  },
  {
   "cell_type": "code",
   "execution_count": 48,
   "metadata": {},
   "outputs": [
    {
     "name": "stdout",
     "output_type": "stream",
     "text": [
      "Model Summary\n",
      "------------------------\n",
      "Test r2: 0.785\n",
      "Test neg_mean_squared_error: 345.987\n"
     ]
    }
   ],
   "source": [
    "# DELETE THIS CODE CHUNK IF CHENG USES THE SAME ARGUMENTS FOR HIS RUN_LINEAR_REGRESSION FUNCTION\n",
    "# Merari - plot (using Cheng's function outputs)\n",
    "from vega_datasets import data\n",
    "from linreg_ally.models import run_linear_regression\n",
    "\n",
    "df = data.cars()\n",
    "df = df[['Horsepower', 'Displacement']].dropna()\n",
    "\n",
    "# Define parameters for run_linear_regression\n",
    "dataframe = df\n",
    "target_column = \"Horsepower\"\n",
    "numeric_feats = [\"Displacement\"] \n",
    "categorical_feats = []  # No categorical features in this case\n",
    "drop_feats = None  # No columns to drop\n",
    "random_state = 123\n",
    "\n",
    "model_results = run_linear_regression(\n",
    "    dataframe=dataframe,\n",
    "    target_column=target_column,\n",
    "    numeric_feats=numeric_feats,\n",
    "    categorical_feats=categorical_feats,\n",
    "    drop_feats=drop_feats,\n",
    "    random_state=random_state\n",
    ")\n"
   ]
  },
  {
   "cell_type": "markdown",
   "metadata": {},
   "source": [
    "## Checking Normality and Homoscedasticity of Residuals\n",
    "\n",
    "A linear regression model assumes that residuals are normally distributed and have constant variance (homoscedasticity). To check whether these assumptions are met, we use the `qq_and_residuals_plot` function. This function generates:\n",
    "\n",
    "1. A Quantile-Quantile (Q-Q) plot to assess the normality of residuals.\n",
    "2. A Residuals vs. Fitted Values plot to check for homoscedasticity."
   ]
  },
  {
   "cell_type": "markdown",
   "metadata": {},
   "source": [
    "The `qq_and_residuals_plot` function takes two parameters: `y_actual` and `y_predicted`. These values were extracted from the linear regression model we previously created."
   ]
  },
  {
   "cell_type": "code",
   "execution_count": 49,
   "metadata": {},
   "outputs": [],
   "source": [
    "# Unpack the returned values correctly\n",
    "best_model, X_train, X_test, y_train, y_test, scores = model_results\n",
    "\n",
    "# y_actual is y_test (true labels)\n",
    "y_actual = y_test\n",
    "\n",
    "# y_predicted is obtained by predicting on X_test\n",
    "y_predicted = best_model.predict(X_test)\n"
   ]
  },
  {
   "cell_type": "markdown",
   "metadata": {},
   "source": [
    "Now that `y_actual` and `y_predicted` have been extracted, let's pass these parameters to the `qq_and_residuals_plot` function."
   ]
  },
  {
   "cell_type": "code",
   "execution_count": 50,
   "metadata": {},
   "outputs": [
    {
     "data": {
      "text/html": [
       "\n",
       "<style>\n",
       "  #altair-viz-d38bc12b263d47039958d7f1198a649d.vega-embed {\n",
       "    width: 100%;\n",
       "    display: flex;\n",
       "  }\n",
       "\n",
       "  #altair-viz-d38bc12b263d47039958d7f1198a649d.vega-embed details,\n",
       "  #altair-viz-d38bc12b263d47039958d7f1198a649d.vega-embed details summary {\n",
       "    position: relative;\n",
       "  }\n",
       "</style>\n",
       "<div id=\"altair-viz-d38bc12b263d47039958d7f1198a649d\"></div>\n",
       "<script type=\"text/javascript\">\n",
       "  var VEGA_DEBUG = (typeof VEGA_DEBUG == \"undefined\") ? {} : VEGA_DEBUG;\n",
       "  (function(spec, embedOpt){\n",
       "    let outputDiv = document.currentScript.previousElementSibling;\n",
       "    if (outputDiv.id !== \"altair-viz-d38bc12b263d47039958d7f1198a649d\") {\n",
       "      outputDiv = document.getElementById(\"altair-viz-d38bc12b263d47039958d7f1198a649d\");\n",
       "    }\n",
       "\n",
       "    const paths = {\n",
       "      \"vega\": \"https://cdn.jsdelivr.net/npm/vega@5?noext\",\n",
       "      \"vega-lib\": \"https://cdn.jsdelivr.net/npm/vega-lib?noext\",\n",
       "      \"vega-lite\": \"https://cdn.jsdelivr.net/npm/vega-lite@5.20.1?noext\",\n",
       "      \"vega-embed\": \"https://cdn.jsdelivr.net/npm/vega-embed@6?noext\",\n",
       "    };\n",
       "\n",
       "    function maybeLoadScript(lib, version) {\n",
       "      var key = `${lib.replace(\"-\", \"\")}_version`;\n",
       "      return (VEGA_DEBUG[key] == version) ?\n",
       "        Promise.resolve(paths[lib]) :\n",
       "        new Promise(function(resolve, reject) {\n",
       "          var s = document.createElement('script');\n",
       "          document.getElementsByTagName(\"head\")[0].appendChild(s);\n",
       "          s.async = true;\n",
       "          s.onload = () => {\n",
       "            VEGA_DEBUG[key] = version;\n",
       "            return resolve(paths[lib]);\n",
       "          };\n",
       "          s.onerror = () => reject(`Error loading script: ${paths[lib]}`);\n",
       "          s.src = paths[lib];\n",
       "        });\n",
       "    }\n",
       "\n",
       "    function showError(err) {\n",
       "      outputDiv.innerHTML = `<div class=\"error\" style=\"color:red;\">${err}</div>`;\n",
       "      throw err;\n",
       "    }\n",
       "\n",
       "    function displayChart(vegaEmbed) {\n",
       "      vegaEmbed(outputDiv, spec, embedOpt)\n",
       "        .catch(err => showError(`Javascript Error: ${err.message}<br>This usually means there's a typo in your chart specification. See the javascript console for the full traceback.`));\n",
       "    }\n",
       "\n",
       "    if(typeof define === \"function\" && define.amd) {\n",
       "      requirejs.config({paths});\n",
       "      let deps = [\"vega-embed\"];\n",
       "      require(deps, displayChart, err => showError(`Error loading script: ${err.message}`));\n",
       "    } else {\n",
       "      maybeLoadScript(\"vega\", \"5\")\n",
       "        .then(() => maybeLoadScript(\"vega-lite\", \"5.20.1\"))\n",
       "        .then(() => maybeLoadScript(\"vega-embed\", \"6\"))\n",
       "        .catch(showError)\n",
       "        .then(() => displayChart(vegaEmbed));\n",
       "    }\n",
       "  })({\"config\": {\"view\": {\"continuousWidth\": 300, \"continuousHeight\": 300}}, \"hconcat\": [{\"layer\": [{\"data\": {\"name\": \"data-d3c8f6fbea1a29b4dd8291e7d0e3b221\"}, \"mark\": {\"type\": \"circle\", \"size\": 60}, \"encoding\": {\"x\": {\"field\": \"Theoretical Quantiles\", \"title\": \"Theoretical Quantiles\", \"type\": \"quantitative\"}, \"y\": {\"field\": \"Standardized Residuals\", \"title\": \"Standardized Residuals\", \"type\": \"quantitative\"}}, \"title\": \"Q-Q Plot\"}, {\"data\": {\"name\": \"data-85d19c836a4395e2ec54e74d1ddf6151\"}, \"mark\": {\"type\": \"line\", \"color\": \"red\", \"strokeDash\": [5, 5]}, \"encoding\": {\"x\": {\"field\": \"Theoretical Quantiles\", \"type\": \"quantitative\"}, \"y\": {\"field\": \"Standardized Residuals\", \"type\": \"quantitative\"}}}], \"height\": 300, \"width\": 300}, {\"layer\": [{\"data\": {\"name\": \"data-6441b55efb36736b85f0137b061e2a04\"}, \"mark\": {\"type\": \"circle\", \"size\": 60}, \"encoding\": {\"x\": {\"field\": \"Fitted Values\", \"title\": \"Fitted Values\", \"type\": \"quantitative\"}, \"y\": {\"field\": \"Residuals\", \"title\": \"Residuals\", \"type\": \"quantitative\"}}, \"title\": \"Residuals vs. Fitted Values\"}, {\"data\": {\"name\": \"data-12fe4be04ac697c852a266ecaf7edd18\"}, \"mark\": {\"type\": \"line\", \"color\": \"red\", \"strokeDash\": [5, 5]}, \"encoding\": {\"x\": {\"field\": \"Fitted Values\", \"type\": \"quantitative\"}, \"y\": {\"field\": \"Residuals\", \"type\": \"quantitative\"}}}], \"height\": 300, \"width\": 300}], \"resolve\": {\"scale\": {\"y\": \"independent\"}}, \"$schema\": \"https://vega.github.io/schema/vega-lite/v5.20.1.json\", \"datasets\": {\"data-d3c8f6fbea1a29b4dd8291e7d0e3b221\": [{\"Theoretical Quantiles\": -2.3812536889575733, \"Standardized Residuals\": -1.9805314222954296}, {\"Theoretical Quantiles\": -2.0347954265185875, \"Standardized Residuals\": -1.9805314222954296}, {\"Theoretical Quantiles\": -1.833300352515852, \"Standardized Residuals\": -1.7544228653600145}, {\"Theoretical Quantiles\": -1.6867867062894633, \"Standardized Residuals\": -1.5525468977185917}, {\"Theoretical Quantiles\": -1.569502797662147, \"Standardized Residuals\": -1.3857016087978529}, {\"Theoretical Quantiles\": -1.4705336327250025, \"Standardized Residuals\": -1.3310846811981374}, {\"Theoretical Quantiles\": -1.3841787147489777, \"Standardized Residuals\": -1.2547169935124676}, {\"Theoretical Quantiles\": -1.3070663019006745, \"Standardized Residuals\": -1.2547169935124676}, {\"Theoretical Quantiles\": -1.2370281009745532, \"Standardized Residuals\": -1.1575994329600334}, {\"Theoretical Quantiles\": -1.1725829105655199, \"Standardized Residuals\": -0.9675142864285177}, {\"Theoretical Quantiles\": -1.112671450388508, \"Standardized Residuals\": -0.8924729594991264}, {\"Theoretical Quantiles\": -1.0565083743074666, \"Standardized Residuals\": -0.8924729594991264}, {\"Theoretical Quantiles\": -1.0034942031141953, \"Standardized Residuals\": -0.886996624169495}, {\"Theoretical Quantiles\": -0.9531601612854598, \"Standardized Residuals\": -0.886996624169495}, {\"Theoretical Quantiles\": -0.9051321464450794, \"Standardized Residuals\": -0.8521368377533294}, {\"Theoretical Quantiles\": -0.8591063593654472, \"Standardized Residuals\": -0.8255688449478962}, {\"Theoretical Quantiles\": -0.8148323257668638, \"Standardized Residuals\": -0.7229749490658313}, {\"Theoretical Quantiles\": -0.772100763269455, \"Standardized Residuals\": -0.7199885984802106}, {\"Theoretical Quantiles\": -0.7307347169999672, \"Standardized Residuals\": -0.7135113759313909}, {\"Theoretical Quantiles\": -0.6905829562425948, \"Standardized Residuals\": -0.6852915488325912}, {\"Theoretical Quantiles\": -0.6515149699015615, \"Standardized Residuals\": -0.6779843313691002}, {\"Theoretical Quantiles\": -0.6134171146978764, \"Standardized Residuals\": -0.672011630197861}, {\"Theoretical Quantiles\": -0.5761896089821583, \"Standardized Residuals\": -0.672011630197861}, {\"Theoretical Quantiles\": -0.5397441565364203, \"Standardized Residuals\": -0.5665859649627466}, {\"Theoretical Quantiles\": -0.504002046276566, \"Standardized Residuals\": -0.47527836881300667}, {\"Theoretical Quantiles\": -0.46889261596369736, \"Standardized Residuals\": -0.4732929054465757}, {\"Theoretical Quantiles\": -0.43435199747337233, \"Standardized Residuals\": -0.43842496349443666}, {\"Theoretical Quantiles\": -0.40032208204007963, \"Standardized Residuals\": -0.39924431020039997}, {\"Theoretical Quantiles\": -0.36674965889935734, \"Standardized Residuals\": -0.384304401736329}, {\"Theoretical Quantiles\": -0.3335856916809001, \"Standardized Residuals\": -0.31208668862401295}, {\"Theoretical Quantiles\": -0.30078470496348647, \"Standardized Residuals\": -0.297146780159942}, {\"Theoretical Quantiles\": -0.26830425940534525, \"Standardized Residuals\": -0.2800505160249226}, {\"Theoretical Quantiles\": -0.23610449837782, \"Standardized Residuals\": -0.23854261475541844}, {\"Theoretical Quantiles\": -0.20414775245253242, \"Standardized Residuals\": -0.221942716462006}, {\"Theoretical Quantiles\": -0.17239819070374948, \"Standardized Residuals\": -0.18442205299731076}, {\"Theoretical Quantiles\": -0.140821509789587, \"Standardized Residuals\": -0.14391503894699556}, {\"Theoretical Quantiles\": -0.10938465331335388, \"Standardized Residuals\": -0.14325593633684305}, {\"Theoretical Quantiles\": -0.07805555514535621, \"Standardized Residuals\": -0.134785094885619}, {\"Theoretical Quantiles\": -0.046802901282789286, \"Standardized Residuals\": -0.11253796895805693}, {\"Theoretical Quantiles\": -0.01559590549693945, \"Standardized Residuals\": -0.09427808083530378}, {\"Theoretical Quantiles\": 0.01559590549693945, \"Standardized Residuals\": -0.09012810626195088}, {\"Theoretical Quantiles\": 0.04680290128278914, \"Standardized Residuals\": -0.04563385440682752}, {\"Theoretical Quantiles\": 0.07805555514535621, \"Standardized Residuals\": -0.04065388491880386}, {\"Theoretical Quantiles\": 0.10938465331335402, \"Standardized Residuals\": -0.02654397136940364}, {\"Theoretical Quantiles\": 0.140821509789587, \"Standardized Residuals\": 0.027576590388704036}, {\"Theoretical Quantiles\": 0.17239819070374962, \"Standardized Residuals\": 0.03372018386446141}, {\"Theoretical Quantiles\": 0.20414775245253228, \"Standardized Residuals\": 0.03372018386446141}, {\"Theoretical Quantiles\": 0.23610449837782, \"Standardized Residuals\": 0.08169715214681171}, {\"Theoretical Quantiles\": 0.26830425940534525, \"Standardized Residuals\": 0.09480617847702374}, {\"Theoretical Quantiles\": 0.3007847049634866, \"Standardized Residuals\": 0.12734687245369533}, {\"Theoretical Quantiles\": 0.33358569168090035, \"Standardized Residuals\": 0.13979679617375407}, {\"Theoretical Quantiles\": 0.3667496588993575, \"Standardized Residuals\": 0.18827828583368558}, {\"Theoretical Quantiles\": 0.4003220820400798, \"Standardized Residuals\": 0.19608186913878445}, {\"Theoretical Quantiles\": 0.43435199747337233, \"Standardized Residuals\": 0.23243890861574595}, {\"Theoretical Quantiles\": 0.4688926159636975, \"Standardized Residuals\": 0.3340319172786227}, {\"Theoretical Quantiles\": 0.504002046276566, \"Standardized Residuals\": 0.3654089872675621}, {\"Theoretical Quantiles\": 0.5397441565364204, \"Standardized Residuals\": 0.3956305888047397}, {\"Theoretical Quantiles\": 0.5761896089821587, \"Standardized Residuals\": 0.41039960496429245}, {\"Theoretical Quantiles\": 0.6134171146978764, \"Standardized Residuals\": 0.4157132035253791}, {\"Theoretical Quantiles\": 0.6515149699015617, \"Standardized Residuals\": 0.45224113530685967}, {\"Theoretical Quantiles\": 0.6905829562425948, \"Standardized Residuals\": 0.458881094624224}, {\"Theoretical Quantiles\": 0.7307347169999674, \"Standardized Residuals\": 0.609289222020096}, {\"Theoretical Quantiles\": 0.7721007632694554, \"Standardized Residuals\": 0.6360117960581005}, {\"Theoretical Quantiles\": 0.8148323257668638, \"Standardized Residuals\": 0.7372874867198612}, {\"Theoretical Quantiles\": 0.8591063593654474, \"Standardized Residuals\": 0.7372874867198612}, {\"Theoretical Quantiles\": 0.9051321464450799, \"Standardized Residuals\": 0.7739699997339122}, {\"Theoretical Quantiles\": 0.9531601612854605, \"Standardized Residuals\": 0.8124915504177965}, {\"Theoretical Quantiles\": 1.0034942031141958, \"Standardized Residuals\": 0.8319150625282833}, {\"Theoretical Quantiles\": 1.0565083743074666, \"Standardized Residuals\": 0.8521685695534417}, {\"Theoretical Quantiles\": 1.112671450388508, \"Standardized Residuals\": 0.9516052225453693}, {\"Theoretical Quantiles\": 1.1725829105655203, \"Standardized Residuals\": 1.0528727576711565}, {\"Theoretical Quantiles\": 1.2370281009745536, \"Standardized Residuals\": 1.2079353810179627}, {\"Theoretical Quantiles\": 1.307066301900675, \"Standardized Residuals\": 1.2222080313359076}, {\"Theoretical Quantiles\": 1.3841787147489786, \"Standardized Residuals\": 1.5673558012142295}, {\"Theoretical Quantiles\": 1.470533632725003, \"Standardized Residuals\": 1.6098564341669492}, {\"Theoretical Quantiles\": 1.5695027976621483, \"Standardized Residuals\": 1.7924634709304548}, {\"Theoretical Quantiles\": 1.6867867062894644, \"Standardized Residuals\": 1.8573821221152547}, {\"Theoretical Quantiles\": 1.8333003525158538, \"Standardized Residuals\": 2.2299197241777065}, {\"Theoretical Quantiles\": 2.03479542651859, \"Standardized Residuals\": 2.9387924700582193}, {\"Theoretical Quantiles\": 2.3812536889575733, \"Standardized Residuals\": 3.4142575970757996}], \"data-85d19c836a4395e2ec54e74d1ddf6151\": [{\"Theoretical Quantiles\": -3, \"Standardized Residuals\": -3}, {\"Theoretical Quantiles\": 3, \"Standardized Residuals\": 3}], \"data-6441b55efb36736b85f0137b061e2a04\": [{\"Fitted Values\": 171.68846318108342, \"Residuals\": 8.31153681891658}, {\"Fitted Values\": 122.45526500991538, \"Residuals\": -34.45526500991538}, {\"Fitted Values\": 155.2773971240274, \"Residuals\": -30.277397124027402}, {\"Fitted Values\": 75.84783740787631, \"Residuals\": 17.152162592123688}, {\"Fitted Values\": 89.96135421694447, \"Residuals\": -5.961354216944471}, {\"Fitted Values\": 70.26807494847726, \"Residuals\": -1.2680749484772633}, {\"Fitted Values\": 122.45526500991538, \"Residuals\": -34.45526500991538}, {\"Fitted Values\": 86.35091968439215, \"Residuals\": 1.649080315607847}, {\"Fitted Values\": 70.26807494847726, \"Residuals\": -2.2680749484772633}, {\"Fitted Values\": 155.2773971240274, \"Residuals\": 19.722602875972598}, {\"Fitted Values\": 86.35091968439215, \"Residuals\": -3.350919684392153}, {\"Fitted Values\": 155.2773971240274, \"Residuals\": 24.722602875972598}, {\"Fitted Values\": 95.54111667634352, \"Residuals\": 24.45888332365648}, {\"Fitted Values\": 144.77431484751156, \"Residuals\": 65.22568515248844}, {\"Fitted Values\": 80.11471458271086, \"Residuals\": 17.88528541728914}, {\"Fitted Values\": 66.32941909478382, \"Residuals\": -8.329419094783816}, {\"Fitted Values\": 72.56562419646511, \"Residuals\": 6.434375803534891}, {\"Fitted Values\": 155.2773971240274, \"Residuals\": -10.277397124027402}, {\"Fitted Values\": 122.45526500991538, \"Residuals\": -22.45526500991538}, {\"Fitted Values\": 168.40624996967222, \"Residuals\": 21.593750030327783}, {\"Fitted Values\": 116.54728122937522, \"Residuals\": -26.547281229375216}, {\"Fitted Values\": 106.04419895285936, \"Residuals\": -21.04419895285936}, {\"Fitted Values\": 141.16388031495921, \"Residuals\": -11.163880314959215}, {\"Fitted Values\": 72.23740287532398, \"Residuals\": 2.76259712467602}, {\"Fitted Values\": 166.10870072168436, \"Residuals\": 3.8912992783156426}, {\"Fitted Values\": 166.10870072168436, \"Residuals\": 13.891299278315643}, {\"Fitted Values\": 155.2773971240274, \"Residuals\": 9.722602875972598}, {\"Fitted Values\": 89.96135421694447, \"Residuals\": -1.9613542169444713}, {\"Fitted Values\": 86.35091968439215, \"Residuals\": 2.649080315607847}, {\"Fitted Values\": 68.62696834277166, \"Residuals\": -3.6269683427716615}, {\"Fitted Values\": 139.52277370925364, \"Residuals\": -10.522773709253642}, {\"Fitted Values\": 158.5596103354386, \"Residuals\": 16.440389664561394}, {\"Fitted Values\": 69.61163230619502, \"Residuals\": 1.3883676938049803}, {\"Fitted Values\": 73.55028815988847, \"Residuals\": 9.449711840111533}, {\"Fitted Values\": 72.23740287532398, \"Residuals\": -5.23740287532398}, {\"Fitted Values\": 114.24973198138737, \"Residuals\": -14.24973198138737}, {\"Fitted Values\": 95.54111667634352, \"Residuals\": 36.45888332365648}, {\"Fitted Values\": 80.11471458271086, \"Residuals\": -13.11471458271086}, {\"Fitted Values\": 155.2773971240274, \"Residuals\": 4.722602875972598}, {\"Fitted Values\": 128.03502746931443, \"Residuals\": -3.0350274693144286}, {\"Fitted Values\": 155.60561844516852, \"Residuals\": -6.605618445168517}, {\"Fitted Values\": 155.60561844516852, \"Residuals\": -13.605618445168517}, {\"Fitted Values\": 140.50743767267699, \"Residuals\": 4.492562327323014}, {\"Fitted Values\": 114.24973198138737, \"Residuals\": -19.24973198138737}, {\"Fitted Values\": 106.04419895285936, \"Residuals\": -11.044198952859361}, {\"Fitted Values\": 86.35091968439215, \"Residuals\": 3.649080315607847}, {\"Fitted Values\": 75.51961608673518, \"Residuals\": -0.5196160867351836}, {\"Fitted Values\": 72.23740287532398, \"Residuals\": 2.76259712467602}, {\"Fitted Values\": 91.60246082265007, \"Residuals\": 0.39753917734992683}, {\"Fitted Values\": 66.65764041592494, \"Residuals\": 43.342359584075055}, {\"Fitted Values\": 76.50428005015854, \"Residuals\": 10.495719949841458}, {\"Fitted Values\": 189.74063584384504, \"Residuals\": 35.25936415615496}, {\"Fitted Values\": 84.38159175754544, \"Residuals\": 10.618408242454564}, {\"Fitted Values\": 114.24973198138737, \"Residuals\": -14.24973198138737}, {\"Fitted Values\": 93.90001007063792, \"Residuals\": 31.09998992936208}, {\"Fitted Values\": 72.23740287532398, \"Residuals\": 15.76259712467602}, {\"Fitted Values\": 166.10870072168436, \"Residuals\": 8.891299278315643}, {\"Fitted Values\": 100.46443649346033, \"Residuals\": -23.464436493460326}, {\"Fitted Values\": 140.50743767267699, \"Residuals\": -0.5074376726769856}, {\"Fitted Values\": 80.11471458271086, \"Residuals\": 31.88528541728914}, {\"Fitted Values\": 158.5596103354386, \"Residuals\": 56.440389664561394}, {\"Fitted Values\": 77.48894401358191, \"Residuals\": 17.511055986418086}, {\"Fitted Values\": 63.703648525654856, \"Residuals\": 1.296351474345144}, {\"Fitted Values\": 125.73747822132658, \"Residuals\": -15.737478221326583}, {\"Fitted Values\": 86.35091968439215, \"Residuals\": -0.35091968439215293}, {\"Fitted Values\": 89.96135421694447, \"Residuals\": -4.961354216944471}, {\"Fitted Values\": 155.2773971240274, \"Residuals\": -10.277397124027402}, {\"Fitted Values\": 86.35091968439215, \"Residuals\": -14.350919684392153}, {\"Fitted Values\": 105.38775631057713, \"Residuals\": -10.387756310577132}, {\"Fitted Values\": 67.6423043793483, \"Residuals\": -6.642304379348303}, {\"Fitted Values\": 140.17921635153587, \"Residuals\": 9.820783648464129}, {\"Fitted Values\": 106.04419895285936, \"Residuals\": -21.04419895285936}, {\"Fitted Values\": 116.2190599082341, \"Residuals\": -11.219059908234101}, {\"Fitted Values\": 86.35091968439215, \"Residuals\": -14.350919684392153}, {\"Fitted Values\": 72.23740287532398, \"Residuals\": 5.76259712467602}, {\"Fitted Values\": 96.52578063976688, \"Residuals\": 0.4742193602331213}, {\"Fitted Values\": 69.93985362733613, \"Residuals\": 0.06014637266386558}, {\"Fitted Values\": 84.38159175754544, \"Residuals\": 5.618408242454564}, {\"Fitted Values\": 72.23740287532398, \"Residuals\": 15.76259712467602}, {\"Fitted Values\": 91.60246082265007, \"Residuals\": 13.397539177349927}], \"data-12fe4be04ac697c852a266ecaf7edd18\": [{\"Fitted Values\": 61.703648525654856, \"Residuals\": 0}, {\"Fitted Values\": 191.74063584384504, \"Residuals\": 0}]}}, {\"mode\": \"vega-lite\"});\n",
       "</script>"
      ],
      "text/plain": [
       "alt.HConcatChart(...)"
      ]
     },
     "execution_count": 50,
     "metadata": {},
     "output_type": "execute_result"
    }
   ],
   "source": [
    "from linreg_ally.plotting import qq_and_residuals_plot\n",
    "\n",
    "qq_and_residuals_plot(y_actual, y_predicted)"
   ]
  },
  {
   "cell_type": "markdown",
   "metadata": {},
   "source": [
    "## Interpreting the Q-Q Plot\n",
    "\n",
    "If the Q-Q plot shows a significant deviation from the red dashed line (which represents perfect normality), the residuals are not normally distributed. In our plot, a few points deviate from the line at the tails, suggesting potential skewness or outliers. However, since these deviations are minor, we can conclude that the residuals are approximately normal."
   ]
  },
  {
   "cell_type": "markdown",
   "metadata": {},
   "source": [
    "## Interpreting the Residuals vs. Fitted Values Plot\n",
    "\n",
    "For the homoscedasticity assumption to hold, residuals should be randomly scattered around the red dashed line in the Residuals vs. Fitted Values plot. This would indicate that residual variance remains constant across all fitted values (homoscedasticity).\n",
    "\n",
    "However, in our case, residuals cluster at different fitted value ranges, suggesting that the variance is not constant (heteroscedasticity)."
   ]
  },
  {
   "cell_type": "markdown",
   "metadata": {},
   "source": [
    "## Implications of Assumption Violations\n",
    "\n",
    "If the normality assumption is violated:\n",
    "Ordinary Least Squares (OLS) regression still produces best linear unbiased estimates (BLUE) as long as independence and homoscedasticity hold. However, hypothesis tests and confidence intervals may be misleading if residuals deviate significantly from normality.\n",
    "\n",
    "If the homoscedasticity assumption is violated:\n",
    "You can still fit a linear regression model, but you should interpret results with caution. The estimated coefficients remain unbiased, but standard errors and p-values become unreliable, affecting statistical inference."
   ]
  },
  {
   "cell_type": "markdown",
   "metadata": {},
   "source": [
    "## Conclusion\n",
    "\n",
    "The `qq_and_residuals_plot` function is a valuable tool for assessing the normality and homoscedasticity assumptions in linear regression. If these assumptions are violated, you should consider corrective measures such as:\n",
    "\n",
    "- Transforming variables (e.g., logarithmic transformation),\n",
    "- Using robust standard errors, or\n",
    "- Exploring alternative models (e.g., weighted least squares, generalized least squares)."
   ]
  }
 ],
 "metadata": {
  "kernelspec": {
   "display_name": "Python 3 (ipykernel)",
   "language": "python",
   "name": "python3"
  },
  "language_info": {
   "codemirror_mode": {
    "name": "ipython",
    "version": 3
   },
   "file_extension": ".py",
   "mimetype": "text/x-python",
   "name": "python",
   "nbconvert_exporter": "python",
   "pygments_lexer": "ipython3",
   "version": "3.11.11"
  }
 },
 "nbformat": 4,
 "nbformat_minor": 4
}
